{
 "cells": [
  {
   "cell_type": "markdown",
   "source": [
    "Project 1 - IS362\n",
    "_________________________"
   ],
   "metadata": {
    "collapsed": false,
    "pycharm": {
     "name": "#%% md\n"
    }
   }
  },
  {
   "cell_type": "code",
   "source": [
    "#Create a .CSV file that includes all the information from table\n",
    "#Change structure as you like\n",
    "#Created an .csv file called \"project1data.csv\"\n",
    "\n",
    "#import libraries that are needed\n",
    "import pandas as pd\n",
    "from pandas import DataFrame, Series\n",
    "import numpy as np\n",
    "from matplotlib import pyplot as plt\n",
    "import matplotlib\n",
    "%matplotlib inline\n",
    "\n",
    "\n",
    "#Read information from file into pandas dataframe\n",
    "airlines = pd.read_csv('project1data.csv')"
   ],
   "metadata": {
    "collapsed": false,
    "pycharm": {
     "name": "#%%\n"
    }
   },
   "execution_count": 9,
   "outputs": []
  },
  {
   "cell_type": "markdown",
   "source": [
    "CSV file has been included in GitHub Repo\n",
    "Data has been formatted as follows, the city is the key:"
   ],
   "metadata": {
    "collapsed": false,
    "pycharm": {
     "name": "#%% md\n"
    }
   }
  },
  {
   "cell_type": "code",
   "execution_count": 10,
   "outputs": [
    {
     "name": "stdout",
     "output_type": "stream",
     "text": [
      "            city  AlaskaOnTime  AlaskaDelay  AMWestOnTime  AMWestDelay\n",
      "0    Los Angeles           497           62           694          117\n",
      "1        Phoenix           221           12          4840          415\n",
      "2      San Diego           212           20           383           65\n",
      "3  San Francisco           503          102           320          129\n",
      "4        Seattle          1841          305           201           61\n"
     ]
    },
    {
     "data": {
      "text/plain": "city            object\nAlaskaOnTime     int64\nAlaskaDelay      int64\nAMWestOnTime     int64\nAMWestDelay      int64\ndtype: object"
     },
     "execution_count": 10,
     "metadata": {},
     "output_type": "execute_result"
    }
   ],
   "source": [
    "print(airlines.head())\n",
    "airlines.dtypes"
   ],
   "metadata": {
    "collapsed": false,
    "pycharm": {
     "name": "#%%\n"
    }
   }
  },
  {
   "cell_type": "code",
   "execution_count": 11,
   "outputs": [
    {
     "name": "stdout",
     "output_type": "stream",
     "text": [
      "Here is the data after calculating the percentage of delays\n",
      "            city  AlaskaOnTime  AlaskaDelay  AMWestOnTime  AMWestDelay  \\\n",
      "0    Los Angeles           497           62           694          117   \n",
      "1        Phoenix           221           12          4840          415   \n",
      "2      San Diego           212           20           383           65   \n",
      "3  San Francisco           503          102           320          129   \n",
      "4        Seattle          1841          305           201           61   \n",
      "\n",
      "   TotalAlaska  TotalAMWest  PercentDelayAlaska  PercentDelayAMWest  \n",
      "0          559          811           11.091234           14.426634  \n",
      "1          233         5255            5.150215            7.897241  \n",
      "2          232          448            8.620690           14.508929  \n",
      "3          605          449           16.859504           28.730512  \n",
      "4         2146          262           14.212488           23.282443  \n"
     ]
    }
   ],
   "source": [
    "#Task: Compare the arrival delays for the two airlines\n",
    "\n",
    "#Finding the percentage of flight delays for each city by Airline:\n",
    "#First: Calculate the total number of flights for each city by Airline\n",
    "airlines['TotalAlaska'] = airlines['AlaskaOnTime'] + airlines['AlaskaDelay']\n",
    "airlines['TotalAMWest'] = airlines['AMWestOnTime'] + airlines['AMWestDelay']\n",
    "\n",
    "#Second: Calculate the percent of flights that are delayed for each  city by airline\n",
    "airlines['PercentDelayAlaska'] = (airlines['AlaskaDelay'] / airlines['TotalAlaska']) * 100\n",
    "airlines['PercentDelayAMWest'] = (airlines['AMWestDelay'] / airlines['TotalAMWest']) * 100\n",
    "print(\"Here is the data after calculating the percentage of delays\")\n",
    "print(airlines)"
   ],
   "metadata": {
    "collapsed": false,
    "pycharm": {
     "name": "#%%\n"
    }
   }
  },
  {
   "cell_type": "markdown",
   "source": [
    "The Data\n",
    "-------------------\n",
    "To determine which airline has the greatest delay, the delay for each airline needs to be compared by each City for each Airline.\n",
    "If we look at the data, for example AM West can say they had more on time flights than Alaska, since they had 4,840 where Alaska only had 221.\n",
    "But if take a look at the total percentage of delays, we can see that AM West still has a higher precentage of delayed flights.\n",
    "The percent of delay is calculated for each City of each airline and this data is stored in the Dataframe.\n",
    "\n",
    "Graphing the Results\n",
    "---------------------\n",
    "A Side by Side bar chart is created to allow for easy comparison of each Airline for every City. Looking at the graph, the blue bars are always higher than the red bars. AM West is the blue bars, which leads us to conclude that Alaska is the airline with fewer delays for all of the cities."
   ],
   "metadata": {
    "collapsed": false,
    "pycharm": {
     "name": "#%% md\n"
    }
   }
  },
  {
   "cell_type": "code",
   "execution_count": 12,
   "outputs": [
    {
     "data": {
      "text/plain": "<Figure size 576x252 with 1 Axes>",
      "image/png": "[encoded data removed]"
     },
     "metadata": {
      "needs_background": "light"
     },
     "output_type": "display_data"
    }
   ],
   "source": [
    "#Create the graph\n",
    "fig, ax = plt.subplots(figsize=(8, 3.5))\n",
    "width = 0.4 # bar width\n",
    "xlocs = np.arange(len(airlines['PercentDelayAMWest']))\n",
    "ax.bar(xlocs-width, airlines['PercentDelayAMWest'], width,\n",
    " color='lightblue', label='AM West')\n",
    "ax.bar(xlocs, airlines['PercentDelayAlaska'], width,\n",
    " color='pink', label='Alaska')\n",
    "# --- labels, grids and title, then save\n",
    "ax.set_xticks(ticks=range(len(airlines['PercentDelayAMWest'])))\n",
    "ax.set_xticklabels(airlines['city'])\n",
    "ax.yaxis.grid(True)\n",
    "ax.legend(loc='best')\n",
    "ax.set_ylabel('Percent of Delay')\n",
    "fig.suptitle('Delayed Flights by Airline')\n",
    "fig.tight_layout(pad=1)"
   ],
   "metadata": {
    "collapsed": false,
    "pycharm": {
     "name": "#%%\n"
    }
   }
  }
 ],
 "metadata": {
  "kernelspec": {
   "name": "python3",
   "language": "python",
   "display_name": "Python 3"
  },
  "language_info": {
   "codemirror_mode": {
    "name": "ipython",
    "version": 2
   },
   "file_extension": ".py",
   "mimetype": "text/x-python",
   "name": "python",
   "nbconvert_exporter": "python",
   "pygments_lexer": "ipython2",
   "version": "2.7.6"
  }
 },
 "nbformat": 4,
 "nbformat_minor": 0
}